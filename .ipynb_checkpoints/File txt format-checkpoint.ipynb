{
 "cells": [
  {
   "cell_type": "code",
   "execution_count": null,
   "metadata": {},
   "outputs": [],
   "source": [
    "# b= open('file_name','mode')\n",
    "# b.close()\n",
    "\n",
    "#mode=(x,r,w,a)"
   ]
  },
  {
   "cell_type": "code",
   "execution_count": 1,
   "metadata": {},
   "outputs": [],
   "source": [
    "# Create File\n",
    "\n",
    "b=open('data.txt','x')\n",
    "b.close()"
   ]
  },
  {
   "cell_type": "code",
   "execution_count": 10,
   "metadata": {},
   "outputs": [
    {
     "name": "stdout",
     "output_type": "stream",
     "text": [
      "1.Hello World\n",
      "2.Hello World\n",
      "3.Hello World\n",
      "4.Hello World\n",
      "5.Hello World\n",
      "6.Shishir Pandey\n",
      "7.Hello World\n",
      "\n"
     ]
    }
   ],
   "source": [
    "# Read File\n",
    "\n",
    "b=open('data.txt','r')\n",
    "print(b.read())\n",
    "b.close()\n",
    "\n",
    "    "
   ]
  },
  {
   "cell_type": "code",
   "execution_count": 18,
   "metadata": {},
   "outputs": [
    {
     "name": "stdout",
     "output_type": "stream",
     "text": [
      "1.Hello World\n",
      "2\n"
     ]
    }
   ],
   "source": [
    "\n",
    "b=open('data.txt','r')\n",
    "a=b.read(15)\n",
    "print(a)\n",
    "b.close()"
   ]
  },
  {
   "cell_type": "code",
   "execution_count": 23,
   "metadata": {},
   "outputs": [
    {
     "name": "stdout",
     "output_type": "stream",
     "text": [
      "1.Hello World\n",
      "\n"
     ]
    }
   ],
   "source": [
    "b=open('data.txt','r')\n",
    "a=b.readline()\n",
    "print(a)\n",
    "b.close()\n"
   ]
  },
  {
   "cell_type": "code",
   "execution_count": 24,
   "metadata": {},
   "outputs": [
    {
     "name": "stdout",
     "output_type": "stream",
     "text": [
      "1.Hello World\n",
      "\n",
      "2.Hello World\n",
      "\n"
     ]
    }
   ],
   "source": [
    "b=open('data.txt','r')\n",
    "print(b.readline())\n",
    "print(b.readline())\n",
    "b.close()\n"
   ]
  },
  {
   "cell_type": "code",
   "execution_count": 35,
   "metadata": {},
   "outputs": [
    {
     "name": "stdout",
     "output_type": "stream",
     "text": [
      "Enter the value of n = 5\n",
      "5.Hello World\n",
      "\n"
     ]
    }
   ],
   "source": [
    "n=int(input(\"Enter the value of n = \"))\n",
    "line=7\n",
    "b=open('data.txt','r')\n",
    "\n",
    "for i in range(1,line+1): \n",
    "    if i!=n:\n",
    "        b.readline()\n",
    "    else:\n",
    "        print(b.readline())\n",
    "b.close()"
   ]
  },
  {
   "cell_type": "code",
   "execution_count": 49,
   "metadata": {},
   "outputs": [
    {
     "name": "stdout",
     "output_type": "stream",
     "text": [
      "Enter value of n = 5\n",
      "5.Hello World\n"
     ]
    }
   ],
   "source": [
    "b=open('data.txt','r')\n",
    "x=b.read()\n",
    "y=x.split('\\n')\n",
    "b.close()\n",
    "\n",
    "line=int(input(\"Enter value of n = \"))\n",
    "print(y[line-1])\n"
   ]
  },
  {
   "cell_type": "code",
   "execution_count": null,
   "metadata": {},
   "outputs": [],
   "source": []
  }
 ],
 "metadata": {
  "kernelspec": {
   "display_name": "Python 3",
   "language": "python",
   "name": "python3"
  },
  "language_info": {
   "codemirror_mode": {
    "name": "ipython",
    "version": 3
   },
   "file_extension": ".py",
   "mimetype": "text/x-python",
   "name": "python",
   "nbconvert_exporter": "python",
   "pygments_lexer": "ipython3",
   "version": "3.7.6"
  }
 },
 "nbformat": 4,
 "nbformat_minor": 4
}
