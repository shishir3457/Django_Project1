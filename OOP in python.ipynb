{
 "cells": [
  {
   "cell_type": "code",
   "execution_count": 1,
   "metadata": {},
   "outputs": [
    {
     "name": "stdout",
     "output_type": "stream",
     "text": [
      "This is a concept of OOP\n"
     ]
    }
   ],
   "source": [
    "class Name:   #class\n",
    "    print(\"This is a concept of OOP\")\n",
    "    \n",
    "obj=Name()    #Object\n",
    "    "
   ]
  },
  {
   "cell_type": "code",
   "execution_count": 2,
   "metadata": {},
   "outputs": [
    {
     "name": "stdout",
     "output_type": "stream",
     "text": [
      "This is a first class\n"
     ]
    }
   ],
   "source": [
    "class Name:\n",
    "    print(\"This is a first class\")\n",
    "\n",
    "a=Name()"
   ]
  },
  {
   "cell_type": "code",
   "execution_count": 14,
   "metadata": {},
   "outputs": [
    {
     "name": "stdout",
     "output_type": "stream",
     "text": [
      "2\n"
     ]
    }
   ],
   "source": [
    "class cal:\n",
    "    a=2\n",
    "obj=cal()\n",
    "print(obj.a)"
   ]
  },
  {
   "cell_type": "code",
   "execution_count": 5,
   "metadata": {},
   "outputs": [
    {
     "name": "stdout",
     "output_type": "stream",
     "text": [
      "24\n"
     ]
    }
   ],
   "source": [
    "class Cal:\n",
    "    l=4\n",
    "    b=3\n",
    "    h=2\n",
    "    v=l*b*h\n",
    "    print(v)\n",
    "    \n",
    "obj=Cal()"
   ]
  },
  {
   "cell_type": "code",
   "execution_count": 17,
   "metadata": {},
   "outputs": [
    {
     "name": "stdout",
     "output_type": "stream",
     "text": [
      "24\n"
     ]
    }
   ],
   "source": [
    "class Cal:\n",
    "    def volume(self):\n",
    "        l=4\n",
    "        b=3\n",
    "        h=2\n",
    "        v=l*b*h\n",
    "        print(v)\n",
    "    \n",
    "obj=Cal()\n",
    "obj.volume()"
   ]
  },
  {
   "cell_type": "code",
   "execution_count": 3,
   "metadata": {},
   "outputs": [
    {
     "name": "stdout",
     "output_type": "stream",
     "text": [
      "24\n"
     ]
    }
   ],
   "source": [
    "class Cal:\n",
    "    \n",
    "    \n",
    "    def volume(self,l,b,h):\n",
    "        \n",
    "        v=l*b*h\n",
    "        print(v)\n",
    "        \n",
    "l=4\n",
    "b=3\n",
    "h=2\n",
    "\n",
    "obj=Cal()\n",
    "obj.volume(l,b,h)"
   ]
  },
  {
   "cell_type": "code",
   "execution_count": 26,
   "metadata": {},
   "outputs": [
    {
     "name": "stdout",
     "output_type": "stream",
     "text": [
      "24\n",
      "12\n"
     ]
    }
   ],
   "source": [
    "#multiple Method\n",
    "class Cal:\n",
    "    def volume(self,l,b,h):\n",
    "       \n",
    "        v=l*b*h\n",
    "        print(v)\n",
    "        \n",
    "    def area(self,l,b):\n",
    "        a=l*b\n",
    "        print(a)\n",
    "l=4\n",
    "b=3\n",
    "h=2 \n",
    "\n",
    "obj=Cal()\n",
    "obj.volume(l,b,h)\n",
    "obj.area(l,b)"
   ]
  },
  {
   "cell_type": "code",
   "execution_count": null,
   "metadata": {},
   "outputs": [],
   "source": [
    "class Name:\n",
    "    def __init__(self,name,age,eMail):\n",
    "        self.name=name\n",
    "        self.age=age\n",
    "        self.eMail=eMail\n",
    "a=Name(\"shishir\",28,\"1shishir91691@gmail.com\")\n",
    "print(a.name)\n",
    "print(a.age)\n",
    "print(a.eMail)"
   ]
  },
  {
   "cell_type": "code",
   "execution_count": 37,
   "metadata": {},
   "outputs": [
    {
     "name": "stdout",
     "output_type": "stream",
     "text": [
      "24\n",
      "12\n"
     ]
    }
   ],
   "source": [
    "#Init function\n",
    "class Cal:\n",
    "    def __init__(self,l,b,h):\n",
    "        self.l=l\n",
    "        self.b=b\n",
    "        self.h=h\n",
    "        \n",
    "    def volume(self):\n",
    "        v=self.l*self.b*self.h\n",
    "        print(v)\n",
    "        \n",
    "    def area(self):\n",
    "        a=self.l*self.b\n",
    "        print(a)\n",
    "l=4\n",
    "b=3\n",
    "h=2 \n",
    "\n",
    "obj=Cal(l,b,h)\n",
    "obj.volume()\n",
    "obj.area()"
   ]
  },
  {
   "cell_type": "code",
   "execution_count": 38,
   "metadata": {},
   "outputs": [
    {
     "name": "stdout",
     "output_type": "stream",
     "text": [
      "Enter l = 2\n",
      "Enter b = 3\n",
      "Enter h = 1\n",
      "6\n",
      "6\n"
     ]
    }
   ],
   "source": [
    "class Cal:\n",
    "    def __init__(self,l,b,h):\n",
    "        self.l=l\n",
    "        self.b=b\n",
    "        self.h=h\n",
    "        \n",
    "    def volume(self):\n",
    "        v=self.l*self.b*self.h\n",
    "        print(v)\n",
    "        \n",
    "    def area(self):\n",
    "        a=self.l*self.b\n",
    "        print(a)\n",
    "l=int(input(\"Enter l = \"))\n",
    "b=int(input(\"Enter b = \"))\n",
    "h=int(input(\"Enter h = \")) \n",
    "\n",
    "obj=Cal(l,b,h)\n",
    "obj.volume()\n",
    "obj.area()"
   ]
  },
  {
   "cell_type": "code",
   "execution_count": null,
   "metadata": {},
   "outputs": [],
   "source": [
    "class Cal:\n",
    "    def __init__(self,l,b,h):\n",
    "        self.l=l\n",
    "        self.b=b\n",
    "        self.h=h\n",
    "        \n",
    "    def volume(self):\n",
    "        v=self.l*self.b*self.h\n",
    "        print(v)\n",
    "        \n",
    "    def area(self):\n",
    "        a=self.l*self.b\n",
    "        print(a)\n",
    "l=int(input(\"Enter l = \"))\n",
    "b=int(input(\"Enter b = \"))\n",
    "h=int(input(\"Enter h = \")) \n",
    "\n",
    "obj=Cal(l,b,h)\n",
    "obj.volume()\n",
    "obj.area()"
   ]
  }
 ],
 "metadata": {
  "kernelspec": {
   "display_name": "Python 3",
   "language": "python",
   "name": "python3"
  },
  "language_info": {
   "codemirror_mode": {
    "name": "ipython",
    "version": 3
   },
   "file_extension": ".py",
   "mimetype": "text/x-python",
   "name": "python",
   "nbconvert_exporter": "python",
   "pygments_lexer": "ipython3",
   "version": "3.7.6"
  }
 },
 "nbformat": 4,
 "nbformat_minor": 4
}
